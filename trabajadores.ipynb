{
 "cells": [
  {
   "cell_type": "markdown",
   "metadata": {},
   "source": [
    "# Developer 1 y 3\n",
    "### Nombre: Jhon\n",
    "### mail: monca1078@gmail.com\n",
    "\n",
    "# Developer 2\n",
    "### Nombre: Jhon\n",
    "### mail: jamf1997@hotmail.com"
   ]
  }
 ],
 "metadata": {
  "language_info": {
   "name": "python"
  },
  "orig_nbformat": 4
 },
 "nbformat": 4,
 "nbformat_minor": 2
}
